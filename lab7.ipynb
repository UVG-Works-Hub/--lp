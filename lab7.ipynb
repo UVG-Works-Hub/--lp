{
 "cells": [
  {
   "cell_type": "markdown",
   "metadata": {},
   "source": [
    "# Laboratorio 8 - Word Embeddings\n",
    "## <font size=4> *CC3092 - Deep Learning y Sistemas Inteligentes*, 2024 </font>\n",
    "## <font size=3 color='gray'> Samuel Chamale, Adrian Rodriguez y Daniel Gómez</font>"
   ]
  },
  {
   "cell_type": "markdown",
   "metadata": {},
   "source": [
    "### <ins>1. (Modelo de Transporte)</ins>"
   ]
  },
  {
   "cell_type": "code",
   "execution_count": 23,
   "metadata": {},
   "outputs": [
    {
     "name": "stdout",
     "output_type": "stream",
     "text": [
      "\n",
      "Resultados:\n",
      "\n",
      "               Con 1               Con 2               Con 3               Con 4               Con 5               \n",
      "Cen 1          0.00                100.00              0.00                160.00              140.00              \n",
      "Cen 2          0.00                50.00               150.00              0.00                0.00                \n",
      "Cen 3          100.00              50.00               0.00                0.00                0.00                \n",
      "\n",
      "Costo Total de Transporte: $87916.67\n",
      "\n",
      "Se encontró una solución óptima.\n"
     ]
    }
   ],
   "source": [
    "using JuMP, GLPK, Printf\n",
    "\n",
    "function solve_transportation_model(centros, concesionarios, distancias, ofertas, demandas)\n",
    "    # Crear el modelo\n",
    "    modelo = Model(GLPK.Optimizer)\n",
    "\n",
    "    num_centros = length(centros)\n",
    "    num_concesionarios = length(concesionarios)\n",
    "\n",
    "    # Definir variables de decisión\n",
    "    @variable(modelo, x[1:num_centros, 1:num_concesionarios] >= 0)\n",
    "\n",
    "    # Definir la función objetivo (minimizar el costo total de transporte)\n",
    "    @objective(modelo, Min,\n",
    "        sum(distancias[i][j] * x[i,j] for i in 1:num_centros, j in 1:num_concesionarios) * (25/18)\n",
    "    )\n",
    "\n",
    "    # Restricciones de Oferta\n",
    "    for i in 1:num_centros\n",
    "        @constraint(modelo, sum(x[i,j] for j in 1:num_concesionarios) == ofertas[i])\n",
    "    end\n",
    "\n",
    "    # Restricciones de Demanda\n",
    "    for j in 1:num_concesionarios\n",
    "        @constraint(modelo, sum(x[i,j] for i in 1:num_centros) == demandas[j])\n",
    "    end\n",
    "\n",
    "    # Resolver el modelo\n",
    "    optimize!(modelo)\n",
    "\n",
    "    # Verificar el estado de la optimización\n",
    "    println(\"\\nResultados:\\n\")\n",
    "\n",
    "    # Resultados en formato de tabla\n",
    "    # Imprimir encabezado de concesionarios\n",
    "    print(\" \" ^ 15)  # Espacio en blanco para la primera columna\n",
    "    for j in 1:5\n",
    "        print(rpad(concesionarios[j], 20))  # Imprimir cada concesionario con un ancho fijo\n",
    "    end\n",
    "    println()\n",
    "\n",
    "    # Imprimir los valores de transporte con centros como filas\n",
    "    for i in 1:3\n",
    "        print(rpad(centros[i], 15))  # Imprimir el nombre del centro\n",
    "        for j in 1:5\n",
    "            print(rpad(@sprintf(\"%.2f\", value(x[i,j])), 20))  # Imprimir el valor del transporte con 2 decimales\n",
    "        end\n",
    "        println()\n",
    "    end\n",
    "\n",
    "    @printf(\"\\nCosto Total de Transporte: \\$%.2f\\n\", objective_value(modelo))\n",
    "\n",
    "    if termination_status(modelo) == MOI.OPTIMAL\n",
    "        println(\"\\nSe encontró una solución óptima.\")\n",
    "    else\n",
    "        println(\"\\nNo se encontró una solución óptima.\")\n",
    "    end\n",
    "end\n",
    "\n",
    "# Ejemplo de uso\n",
    "centros = [\"Cen 1\", \"Cen 2\", \"Cen 3\"]\n",
    "concesionarios = [\"Con 1\", \"Con 2\", \"Con 3\", \"Con 4\", \"Con 5\"]\n",
    "distancias = [\n",
    "    [100, 150, 200, 140, 35],\n",
    "    [50, 70, 60, 65, 80],\n",
    "    [40, 90, 100, 150, 130]\n",
    "]\n",
    "ofertas = [400, 200, 150]\n",
    "demandas = [100, 200, 150, 160, 140]\n",
    "\n",
    "solve_transportation_model(centros, concesionarios, distancias, ofertas, demandas)\n"
   ]
  },
  {
   "cell_type": "markdown",
   "metadata": {},
   "source": [
    "### <ins>2. (Modelo de Transporte) - Variaciones</ins>"
   ]
  },
  {
   "cell_type": "markdown",
   "metadata": {},
   "source": [
    "#### ***a) Concesionario 5 requiere 200 automóviles***"
   ]
  },
  {
   "cell_type": "code",
   "execution_count": 24,
   "metadata": {},
   "outputs": [
    {
     "name": "stdout",
     "output_type": "stream",
     "text": [
      "\n",
      "Resultados:\n",
      "\n",
      "               Con 1               Con 2               Con 3               Con 4               Con 5               \n",
      "Cen 1          0.00                0.00                0.00                260.00              140.00              \n",
      "Cen 2          0.00                150.00              150.00              -100.00             0.00                \n",
      "Cen 3          100.00              50.00               0.00                0.00                0.00                \n",
      "\n",
      "Costo Total de Transporte: $87222.22\n",
      "\n",
      "No se encontró una solución óptima.\n"
     ]
    }
   ],
   "source": [
    "centros = [\"Cen 1\", \"Cen 2\", \"Cen 3\"]\n",
    "concesionarios = [\"Con 1\", \"Con 2\", \"Con 3\", \"Con 4\", \"Con 5\"]\n",
    "distancias = [\n",
    "    [100, 150, 200, 140, 35],\n",
    "    [50, 70, 60, 65, 80],\n",
    "    [40, 90, 100, 150, 130]\n",
    "]\n",
    "ofertas = [400, 200, 150]\n",
    "demandas = [100, 200, 150, 160, 200]\n",
    "\n",
    "solve_transportation_model(centros, concesionarios, distancias, ofertas, demandas)"
   ]
  },
  {
   "cell_type": "markdown",
   "metadata": {},
   "source": [
    "#### ***b) Centro 3 produce 200 automóviles***"
   ]
  },
  {
   "cell_type": "code",
   "execution_count": 21,
   "metadata": {},
   "outputs": [
    {
     "name": "stdout",
     "output_type": "stream",
     "text": [
      "\n",
      "Resultados:\n",
      "\n",
      "               Con 1               Con 2               Con 3               Con 4               Con 5               \n",
      "Cen 1          0.00                0.00                0.00                260.00              140.00              \n",
      "Cen 2          0.00                150.00              150.00              -100.00             0.00                \n",
      "Cen 3          100.00              50.00               0.00                0.00                0.00                \n",
      "\n",
      "Costo Total de Transporte: $87222.22\n",
      "No se encontró una solución óptima.\n"
     ]
    }
   ],
   "source": [
    "# Datos\n",
    "centros = [\"Cen 1\", \"Cen 2\", \"Cen 3\"]\n",
    "concesionarios = [\"Con 1\", \"Con 2\", \"Con 3\", \"Con 4\", \"Con 5\"]\n",
    "distancias = [\n",
    "    [100, 150, 200, 140, 35],\n",
    "    [50, 70, 60, 65, 80],\n",
    "    [40, 90, 100, 150, 130]\n",
    "]\n",
    "ofertas = [400, 200, 200]\n",
    "demandas = [100, 200, 150, 160, 140]\n",
    "\n",
    "solve_transportation_model(centros, concesionarios, distancias, ofertas, demandas)"
   ]
  }
 ],
 "metadata": {
  "kernelspec": {
   "display_name": "Julia 1.10.4",
   "language": "julia",
   "name": "julia-1.10"
  },
  "language_info": {
   "file_extension": ".jl",
   "mimetype": "application/julia",
   "name": "julia",
   "version": "1.10.4"
  }
 },
 "nbformat": 4,
 "nbformat_minor": 2
}
