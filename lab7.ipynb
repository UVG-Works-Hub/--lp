{
 "cells": [
  {
   "cell_type": "markdown",
   "metadata": {},
   "source": [
    "# Laboratorio 8 - Word Embeddings\n",
    "## <font size=4> *CC3092 - Deep Learning y Sistemas Inteligentes*, 2024 </font>\n",
    "## <font size=3 color='gray'> Samuel Chamale, Adrian Rodriguez y Daniel Gómez</font>"
   ]
  },
  {
   "cell_type": "markdown",
   "metadata": {},
   "source": [
    "### <ins>1. (Modelo de Transporte)</ins>"
   ]
  },
  {
   "cell_type": "code",
   "execution_count": 30,
   "metadata": {},
   "outputs": [
    {
     "data": {
      "text/plain": [
       "solve_transportation_model (generic function with 1 method)"
      ]
     },
     "metadata": {},
     "output_type": "display_data"
    }
   ],
   "source": [
    "using JuMP, GLPK, Printf\n",
    "\n",
    "function solve_transportation_model(centros, concesionarios, distancias, ofertas, demandas)\n",
    "    # Crear el modelo\n",
    "    modelo = Model(GLPK.Optimizer)\n",
    "\n",
    "    num_centros = length(centros)\n",
    "    num_concesionarios = length(concesionarios)\n",
    "\n",
    "    # Definir variables de decisión\n",
    "    @variable(modelo, x[1:num_centros, 1:num_concesionarios] >= 0)\n",
    "\n",
    "    # Definir la función objetivo (minimizar el costo total de transporte)\n",
    "    @objective(modelo, Min,\n",
    "        sum(distancias[i][j] * x[i,j] for i in 1:num_centros, j in 1:num_concesionarios) * (25/18)\n",
    "    )\n",
    "\n",
    "    # Restricciones de Oferta\n",
    "    for i in 1:num_centros\n",
    "        @constraint(modelo, sum(x[i,j] for j in 1:num_concesionarios) == ofertas[i])\n",
    "    end\n",
    "\n",
    "    # Restricciones de Demanda\n",
    "    for j in 1:num_concesionarios\n",
    "        @constraint(modelo, sum(x[i,j] for i in 1:num_centros) == demandas[j])\n",
    "    end\n",
    "\n",
    "    # Resolver el modelo\n",
    "    optimize!(modelo)\n",
    "\n",
    "    # Verificar el estado de la optimización\n",
    "    println(\"\\nResultados:\\n\")\n",
    "\n",
    "    # Resultados en formato de tabla\n",
    "    # Imprimir encabezado de concesionarios\n",
    "    print(\" \" ^ 15)  # Espacio en blanco para la primera columna\n",
    "    for j in 1:num_concesionarios\n",
    "        print(rpad(concesionarios[j], 20))  # Imprimir cada concesionario con un ancho fijo\n",
    "    end\n",
    "    println()\n",
    "\n",
    "    # Imprimir los valores de transporte con centros como filas\n",
    "    for i in 1:num_centros\n",
    "        print(rpad(centros[i], 15))  # Imprimir el nombre del centro\n",
    "        for j in 1:num_concesionarios\n",
    "            print(rpad(@sprintf(\"%.2f\", value(x[i,j])), 20))  # Imprimir el valor del transporte con 2 decimales\n",
    "        end\n",
    "        println()\n",
    "    end\n",
    "\n",
    "    @printf(\"\\nCosto Total de Transporte: \\$%.2f\\n\", objective_value(modelo))\n",
    "\n",
    "    if termination_status(modelo) == MOI.OPTIMAL\n",
    "        println(\"\\nSe encontró una solución óptima.\")\n",
    "    else\n",
    "        println(\"\\nNo se encontró una solución óptima.\")\n",
    "    end\n",
    "end"
   ]
  },
  {
   "cell_type": "code",
   "execution_count": 31,
   "metadata": {},
   "outputs": [
    {
     "name": "stdout",
     "output_type": "stream",
     "text": [
      "\n",
      "Resultados:\n",
      "\n",
      "               Con 1               Con 2               Con 3               Con 4               Con 5               \n",
      "Cen 1          0.00                100.00              0.00                160.00              140.00              \n",
      "Cen 2          0.00                50.00               150.00              0.00                0.00                \n",
      "Cen 3          100.00              50.00               0.00                0.00                0.00                \n",
      "\n",
      "Costo Total de Transporte: $87916.67\n",
      "\n",
      "Se encontró una solución óptima.\n"
     ]
    }
   ],
   "source": [
    "# Original\n",
    "centros = [\"Cen 1\", \"Cen 2\", \"Cen 3\"]\n",
    "concesionarios = [\"Con 1\", \"Con 2\", \"Con 3\", \"Con 4\", \"Con 5\"]\n",
    "distancias = [\n",
    "    [100, 150, 200, 140, 35],\n",
    "    [50, 70, 60, 65, 80],\n",
    "    [40, 90, 100, 150, 130]\n",
    "]\n",
    "ofertas = [400, 200, 150]\n",
    "demandas = [100, 200, 150, 160, 140]\n",
    "\n",
    "solve_transportation_model(centros, concesionarios, distancias, ofertas, demandas)"
   ]
  },
  {
   "cell_type": "markdown",
   "metadata": {},
   "source": [
    "### <ins>2. Problema 2</ins>"
   ]
  },
  {
   "cell_type": "markdown",
   "metadata": {},
   "source": [
    "#### ***a) Concesionario 5 requiere 200 automóviles***"
   ]
  },
  {
   "cell_type": "code",
   "execution_count": 32,
   "metadata": {},
   "outputs": [
    {
     "name": "stdout",
     "output_type": "stream",
     "text": [
      "\n",
      "Resultados:\n",
      "\n",
      "               Con 1               Con 2               Con 3               Con 4               Con 5               \n",
      "Cen 1          0.00                0.00                0.00                260.00              140.00              \n",
      "Cen 2          0.00                150.00              150.00              -100.00             0.00                \n",
      "Cen 3          100.00              50.00               0.00                0.00                0.00                \n",
      "\n",
      "Costo Total de Transporte: $87222.22\n",
      "\n",
      "No se encontró una solución óptima.\n"
     ]
    }
   ],
   "source": [
    "# Concesionario 5 requiere 200 automóviles\n",
    "demandas = [100, 200, 150, 160, 200]\n",
    "\n",
    "solve_transportation_model(centros, concesionarios, distancias, ofertas, demandas)"
   ]
  },
  {
   "cell_type": "markdown",
   "metadata": {},
   "source": [
    "#### ***b) Centro 3 produce 200 automóviles***"
   ]
  },
  {
   "cell_type": "code",
   "execution_count": 33,
   "metadata": {},
   "outputs": [
    {
     "name": "stdout",
     "output_type": "stream",
     "text": [
      "\n",
      "Resultados:\n",
      "\n",
      "               Con 1               Con 2               Con 3               Con 4               Con 5               \n",
      "Cen 1          0.00                0.00                0.00                260.00              140.00              \n",
      "Cen 2          0.00                150.00              150.00              -100.00             0.00                \n",
      "Cen 3          100.00              50.00               0.00                0.00                0.00                \n",
      "\n",
      "Costo Total de Transporte: $87222.22\n",
      "\n",
      "No se encontró una solución óptima.\n"
     ]
    }
   ],
   "source": [
    "# Centro 3 produce 200 automóviles\n",
    "ofertas = [400, 200, 200]\n",
    "demandas = [100, 200, 150, 160, 140]\n",
    "\n",
    "solve_transportation_model(centros, concesionarios, distancias, ofertas, demandas)"
   ]
  },
  {
   "cell_type": "markdown",
   "metadata": {},
   "source": [
    "### <ins>3. (Modelo de Asignación)</ins>"
   ]
  },
  {
   "cell_type": "code",
   "execution_count": 48,
   "metadata": {},
   "outputs": [
    {
     "data": {
      "text/plain": [
       "solve_assignment_model (generic function with 1 method)"
      ]
     },
     "metadata": {},
     "output_type": "display_data"
    }
   ],
   "source": [
    "using JuMP, GLPK, Printf\n",
    "\n",
    "function solve_assignment_model(cost_matrix, rows, cols)\n",
    "    # Crear el modelo\n",
    "    modelo = Model(GLPK.Optimizer)\n",
    "\n",
    "    num_rows = length(rows)\n",
    "    num_cols = length(cols)\n",
    "\n",
    "    # Definir variables de decisión\n",
    "    @variable(modelo, x[1:num_rows, 1:num_cols], Bin)\n",
    "\n",
    "    # Definir la función objetivo (minimizar el costo total)\n",
    "    @objective(modelo, Min, sum(cost_matrix[i][j] * x[i,j] for i in 1:num_rows, j in 1:num_cols))\n",
    "\n",
    "    # Restricciones de una asignación por fila\n",
    "    for i in 1:num_rows\n",
    "        @constraint(modelo, sum(x[i,j] for j in 1:num_cols) == 1)\n",
    "    end\n",
    "\n",
    "    # Restricciones de una asignación por columna\n",
    "    for j in 1:num_cols\n",
    "        @constraint(modelo, sum(x[i,j] for i in 1:num_rows) == 1)\n",
    "    end\n",
    "\n",
    "    # Resolver el modelo\n",
    "    optimize!(modelo)\n",
    "\n",
    "    # Verificar el estado de la optimización\n",
    "    if termination_status(modelo) == MOI.OPTIMAL\n",
    "        println(\"Se encontró una solución óptima.\")\n",
    "        println(\"Costo Total de Asignación: \\$\", objective_value(modelo))\n",
    "        println(\"Asignaciones Óptimas:\")\n",
    "        for i in 1:num_rows\n",
    "            for j in 1:num_cols\n",
    "                if value(x[i,j]) > 0.5\n",
    "                    @printf(\"%s → %s (\\$%.2f)\\n\", rows[i], cols[j], cost_matrix[i][j])\n",
    "                end\n",
    "            end\n",
    "        end\n",
    "    else\n",
    "        println(\"No se encontró una solución óptima.\")\n",
    "    end\n",
    "end"
   ]
  },
  {
   "cell_type": "markdown",
   "metadata": {},
   "source": [
    "#### ***Tabla (i)***"
   ]
  },
  {
   "cell_type": "code",
   "execution_count": 49,
   "metadata": {},
   "outputs": [
    {
     "name": "stdout",
     "output_type": "stream",
     "text": [
      "Tabla (i):\n",
      "\n",
      "Asignación: Filas como Trabajadores, Columnas como Tareas\n",
      "Se encontró una solución óptima.\n",
      "Costo Total de Asignación: $19.0\n",
      "Asignaciones Óptimas:\n",
      "W1 → T1 ($3.00)\n",
      "W2 → T3 ($2.00)\n",
      "W3 → T2 ($4.00)\n",
      "W4 → T4 ($3.00)\n",
      "W5 → T5 ($7.00)\n",
      "\n",
      "Asignación: Filas como Tareas, Columnas como Trabajadores\n",
      "Se encontró una solución óptima.\n",
      "Costo Total de Asignación: $19.0\n",
      "Asignaciones Óptimas:\n",
      "T1 → W1 ($3.00)\n",
      "T2 → W3 ($2.00)\n",
      "T3 → W2 ($4.00)\n",
      "T4 → W4 ($3.00)\n",
      "T5 → W5 ($7.00)\n",
      "\n",
      "Se encontró una solución óptima.\n",
      "Costo Total de Asignación: $19.0\n",
      "Asignaciones Óptimas:\n",
      "W1 → T1 ($3.00)\n",
      "W2 → T3 ($2.00)\n",
      "W3 → T2 ($4.00)\n",
      "W4 → T4 ($3.00)\n",
      "W5 → T5 ($7.00)\n",
      "\n",
      "Asignación: Filas como Tareas, Columnas como Trabajadores\n",
      "Se encontró una solución óptima.\n",
      "Costo Total de Asignación: $19.0\n",
      "Asignaciones Óptimas:\n",
      "T1 → W1 ($3.00)\n",
      "T2 → W3 ($2.00)\n",
      "T3 → W2 ($4.00)\n",
      "T4 → W4 ($3.00)\n",
      "T5 → W5 ($7.00)\n"
     ]
    }
   ],
   "source": [
    "println(\"Tabla (i):\\n\")\n",
    "\n",
    "# Definir la matriz de costos\n",
    "cost_matrix = [\n",
    "    [3, 8, 2, 10, 3],\n",
    "    [6, 5, 2, 7, 5],\n",
    "    [6, 4, 2, 7, 5],\n",
    "    [8, 4, 2, 3, 5],\n",
    "    [7, 8, 6, 7, 7]\n",
    "]\n",
    "\n",
    "# Definir filas y columnas como Trabajadores y Tareas\n",
    "trabajadores = [\"W1\", \"W2\", \"W3\", \"W4\", \"W5\"]\n",
    "tareas = [\"T1\", \"T2\", \"T3\", \"T4\", \"T5\"]\n",
    "\n",
    "println(\"Asignación: Filas como Trabajadores, Columnas como Tareas\")\n",
    "solve_assignment_model(cost_matrix, trabajadores, tareas)\n",
    "\n",
    "# Definir filas y columnas como Tareas y Trabajadores (transposición)\n",
    "tareas_as_rows = [\"T1\", \"T2\", \"T3\", \"T4\", \"T5\"]\n",
    "trabajadores_as_cols = [\"W1\", \"W2\", \"W3\", \"W4\", \"W5\"]\n",
    "\n",
    "println(\"\\nAsignación: Filas como Tareas, Columnas como Trabajadores\")\n",
    "solve_assignment_model(cost_matrix, tareas_as_rows, trabajadores_as_cols)"
   ]
  }
 ],
 "metadata": {
  "kernelspec": {
   "display_name": "Julia 1.10.4",
   "language": "julia",
   "name": "julia-1.10"
  },
  "language_info": {
   "file_extension": ".jl",
   "mimetype": "application/julia",
   "name": "julia",
   "version": "1.10.4"
  }
 },
 "nbformat": 4,
 "nbformat_minor": 2
}
